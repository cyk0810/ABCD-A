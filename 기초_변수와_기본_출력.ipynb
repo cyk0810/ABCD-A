{
  "nbformat": 4,
  "nbformat_minor": 0,
  "metadata": {
    "colab": {
      "provenance": [],
      "authorship_tag": "ABX9TyMjARY3W0tmWV7YlkRa7GNx",
      "include_colab_link": true
    },
    "kernelspec": {
      "name": "python3",
      "display_name": "Python 3"
    },
    "language_info": {
      "name": "python"
    }
  },
  "cells": [
    {
      "cell_type": "markdown",
      "metadata": {
        "id": "view-in-github",
        "colab_type": "text"
      },
      "source": [
        "<a href=\"https://colab.research.google.com/github/cyk0810/ABCD-A/blob/20250307/%EA%B8%B0%EC%B4%88_%EB%B3%80%EC%88%98%EC%99%80_%EA%B8%B0%EB%B3%B8_%EC%B6%9C%EB%A0%A5.ipynb\" target=\"_parent\"><img src=\"https://colab.research.google.com/assets/colab-badge.svg\" alt=\"Open In Colab\"/></a>"
      ]
    },
    {
      "cell_type": "code",
      "execution_count": 7,
      "metadata": {
        "id": "4tauBTfT9vpW",
        "colab": {
          "base_uri": "https://localhost:8080/"
        },
        "outputId": "3e02f5bb-d22f-452f-d8d4-17204127c4cb"
      },
      "outputs": [
        {
          "output_type": "stream",
          "name": "stdout",
          "text": [
            "pig\n",
            "dad\n",
            "100000\n"
          ]
        }
      ],
      "source": [
        "watch=100000\n",
        "a=\"pig\"\n",
        "b=\"dad\"\n",
        "print(a)\n",
        "print(b)\n",
        "print(watch)\n"
      ]
    }
  ]
}
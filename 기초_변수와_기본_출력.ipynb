{
  "nbformat": 4,
  "nbformat_minor": 0,
  "metadata": {
    "colab": {
      "provenance": [],
      "authorship_tag": "ABX9TyMUrWPOroHqWDp2lsccmEVW",
      "include_colab_link": true
    },
    "kernelspec": {
      "name": "python3",
      "display_name": "Python 3"
    },
    "language_info": {
      "name": "python"
    }
  },
  "cells": [
    {
      "cell_type": "markdown",
      "metadata": {
        "id": "view-in-github",
        "colab_type": "text"
      },
      "source": [
        "<a href=\"https://colab.research.google.com/github/cyk0810/ABCD-A/blob/20250307/%EA%B8%B0%EC%B4%88_%EB%B3%80%EC%88%98%EC%99%80_%EA%B8%B0%EB%B3%B8_%EC%B6%9C%EB%A0%A5.ipynb\" target=\"_parent\"><img src=\"https://colab.research.google.com/assets/colab-badge.svg\" alt=\"Open In Colab\"/></a>"
      ]
    },
    {
      "cell_type": "code",
      "execution_count": null,
      "metadata": {
        "id": "4tauBTfT9vpW",
        "colab": {
          "base_uri": "https://localhost:8080/"
        },
        "outputId": "cabb1d87-dada-4d2f-82db-07133b007450"
      },
      "outputs": [
        {
          "output_type": "stream",
          "name": "stdout",
          "text": [
            "pig\n",
            "dad\n",
            "10000\n",
            "pigdad\n",
            "pig dad\n",
            "1\n",
            "100\n",
            "[2000, 20, 30]\n",
            "Hello World\n",
            "Hello world\n",
            "1\n",
            "1\n",
            "c=1\n",
            "c= 1\n",
            "c=1\n",
            "[10, 20, 30]\n",
            "a=[10, 20, 30]\n",
            "b=1\n",
            "a=[10, 20, 30], b=1, c=2\n"
          ]
        }
      ],
      "source": [
        "from os import PRIO_PGRP\n",
        "watch=10000\n",
        "a=\"pig\"\n",
        "b=\"dad\"\n",
        "print(a)\n",
        "print(b)\n",
        "print(watch)\n",
        "\n",
        "print(a+b)\n",
        "print(a+\" \"+b)\n",
        "\n",
        "aa=\"100\"\n",
        "bb=\"1\"\n",
        "aa,bb=bb,aa\n",
        "print(aa)\n",
        "print(bb)\n",
        "\n",
        "a1=[10,20,30]\n",
        "b1=a1\n",
        "a1[0]=2000\n",
        "print(b1)\n",
        "\n",
        "print(\"Hello World\")\n",
        "print('Hello world')\n",
        "print(1)\n",
        "print(\"1\")\n",
        "\n",
        "c=1\n",
        "print(\"c=\"+str(c))\n",
        "print(\"c=\",c)\n",
        "print(\"c={}\".format(c))\n",
        "\n",
        "#\n",
        "a=[10,20,30]\n",
        "b=1\n",
        "c=2\n",
        "print(a)\n",
        "print(\"a={}\".format(a))\n",
        "print(\"b={}\".format(b))\n",
        "print(\"a={}, b={}, c={}\".format(a,b,c))\n",
        "print(\"a={}, b={}, c={}\".format(a[0],b,c))"
      ]
    }
  ]
}